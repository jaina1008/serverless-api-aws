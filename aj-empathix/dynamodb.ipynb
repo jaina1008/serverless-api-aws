{
 "cells": [
  {
   "cell_type": "code",
   "execution_count": 27,
   "metadata": {},
   "outputs": [],
   "source": [
    "import boto3"
   ]
  },
  {
   "cell_type": "code",
   "execution_count": 28,
   "metadata": {},
   "outputs": [],
   "source": [
    "# Creating a DynamoDB resource\n",
    "ddb = boto3.resource('dynamodb')"
   ]
  },
  {
   "cell_type": "code",
   "execution_count": 50,
   "metadata": {},
   "outputs": [],
   "source": [
    "# Creating new table\n",
    "table = ddb.Table('candidates')"
   ]
  },
  {
   "cell_type": "code",
   "execution_count": null,
   "metadata": {},
   "outputs": [],
   "source": [
    "# Create two items in the candidates table\n",
    "\n",
    "table.put_item(Item={\n",
    "    'id': '1',\n",
    "    'name': 'Sam',\n",
    "    'department': 'Technology'\n",
    "})\n",
    "\n",
    "\n",
    "table.put_item(Item={\n",
    "    'id': '2',\n",
    "    'name': 'Hailey',\n",
    "    'department': 'Technology'\n",
    "})"
   ]
  },
  {
   "cell_type": "code",
   "execution_count": null,
   "metadata": {},
   "outputs": [],
   "source": [
    "# Read from the candidates table\n",
    "table.get_item(Key={\n",
    "    'id': '1'\n",
    "})"
   ]
  },
  {
   "cell_type": "code",
   "execution_count": null,
   "metadata": {},
   "outputs": [],
   "source": [
    "# Update an existing item from candidates table\n",
    "table.update_item(Key={\n",
    "    'id': '1'\n",
    "},\n",
    "AttributeUpdates={\n",
    "    'name': {\n",
    "        'Value': 'Samuel',\n",
    "        'Action': 'PUT'\n",
    "    }\n",
    "})"
   ]
  },
  {
   "cell_type": "code",
   "execution_count": null,
   "metadata": {},
   "outputs": [],
   "source": [
    "# Delete an item from the candidates table\n",
    "table.delete_item(Key={\n",
    "    'id': '2'\n",
    "})"
   ]
  },
  {
   "cell_type": "code",
   "execution_count": 5,
   "metadata": {},
   "outputs": [],
   "source": [
    "# Send POST request\n",
    "import requests"
   ]
  },
  {
   "cell_type": "code",
   "execution_count": 42,
   "metadata": {},
   "outputs": [],
   "source": [
    "base_url = \"https://8n6bygw2yk.execute-api.ap-southeast-2.amazonaws.com/Prod\""
   ]
  },
  {
   "cell_type": "code",
   "execution_count": 47,
   "metadata": {},
   "outputs": [],
   "source": [
    "r = requests.post(f\"{base_url}/candidates\", data = {\n",
    "    \"id\": \"1\",\n",
    "    \"name\": \"Sam\",\n",
    "    \"department\": \"Technology\"\n",
    "    })"
   ]
  },
  {
   "cell_type": "code",
   "execution_count": null,
   "metadata": {},
   "outputs": [],
   "source": [
    "r.content"
   ]
  }
 ],
 "metadata": {
  "kernelspec": {
   "display_name": "Python 3",
   "language": "python",
   "name": "python3"
  },
  "language_info": {
   "codemirror_mode": {
    "name": "ipython",
    "version": 3
   },
   "file_extension": ".py",
   "mimetype": "text/x-python",
   "name": "python",
   "nbconvert_exporter": "python",
   "pygments_lexer": "ipython3",
   "version": "3.10.14"
  }
 },
 "nbformat": 4,
 "nbformat_minor": 2
}
